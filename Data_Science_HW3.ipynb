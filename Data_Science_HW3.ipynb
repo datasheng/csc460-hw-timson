{
  "nbformat": 4,
  "nbformat_minor": 0,
  "metadata": {
    "colab": {
      "provenance": []
    },
    "kernelspec": {
      "name": "python3",
      "display_name": "Python 3"
    },
    "language_info": {
      "name": "python"
    }
  },
  "cells": [
    {
      "cell_type": "code",
      "source": [
        "# Data Science Homework 3\n",
        "# Scraping CCNY Calendar\n",
        "\n",
        "from bs4 import BeautifulSoup\n",
        "import requests\n",
        "import pandas as pd\n",
        "from datetime import date, timedelta\n",
        "from dateutil import parser"
      ],
      "metadata": {
        "id": "lWMy47EtuqmX"
      },
      "execution_count": null,
      "outputs": []
    },
    {
      "cell_type": "code",
      "source": [
        "url = 'https://www.ccny.cuny.edu/registrar/fall'\n",
        "r = requests.get(url)\n",
        "html_doc = r.text\n",
        "soup = BeautifulSoup(html_doc, 'html.parser')\n",
        "\n",
        "data = []\n",
        "\n",
        "rows = soup.find_all('tr')"
      ],
      "metadata": {
        "id": "3hs-UfyGusMI"
      },
      "execution_count": null,
      "outputs": []
    },
    {
      "cell_type": "code",
      "source": [
        "for row in rows:\n",
        "    cols = row.find_all('td')\n",
        "\n",
        "    if len(cols) == 3:\n",
        "        date_str = cols[0].get_text(strip=True)\n",
        "        dow_str = cols[1].get_text(strip=True)\n",
        "        text_str = cols[2].get_text(strip=True)\n",
        "        text_str = text_str.replace('\\n', ' ').replace('\\t', ' ')\n",
        "\n",
        "        current_year = 2021\n",
        "\n",
        "        # Check if the date is a range\n",
        "        if \"-\" in date_str:\n",
        "            start_date_str, end_date_str = date_str.split(' - ')\n",
        "\n",
        "            # Use dateutil's parser to interpret the start date\n",
        "            start_date = parser.parse(f\"{start_date_str} {current_year}\").date()\n",
        "\n",
        "            # Use dateutil's parser to interpret the end date, reusing the start month\n",
        "            end_date = parser.parse(f\"{start_date.strftime('%B')} {end_date_str} {current_year}\").date()\n",
        "\n",
        "            # Add each date in the range to the data list\n",
        "            curr = start_date\n",
        "            while curr <= end_date:\n",
        "                data.append({\n",
        "                    \"date\": curr,\n",
        "                    \"dow\": curr.strftime('%A'),\n",
        "                    \"text\": text_str\n",
        "                })\n",
        "                curr += timedelta(days=1)\n",
        "\n",
        "        else:\n",
        "            # Single date case\n",
        "            if \"2022\" in date_str:\n",
        "                date_obj = parser.parse(date_str).date()\n",
        "            else:\n",
        "                # Add the default year for 2021\n",
        "                date_obj = parser.parse(f\"{date_str} {current_year}\").date()\n",
        "\n",
        "            # Add to the data list\n",
        "            data.append({\n",
        "                \"date\": date_obj,\n",
        "                \"dow\": dow_str,\n",
        "                \"text\": text_str\n",
        "            })"
      ],
      "metadata": {
        "id": "OLO7CzqptPvj"
      },
      "execution_count": 79,
      "outputs": []
    },
    {
      "cell_type": "code",
      "source": [
        "# Convert the list of dictionaries to a DataFrame\n",
        "calendar_df = pd.DataFrame(data)\n",
        "\n",
        "print(calendar_df.to_string(index=False))"
      ],
      "metadata": {
        "id": "vx9b5-z5uydE",
        "outputId": "98792d5b-eeb8-42d0-9e73-65ddb9e5818e",
        "colab": {
          "base_uri": "https://localhost:8080/"
        }
      },
      "execution_count": 78,
      "outputs": [
        {
          "output_type": "stream",
          "name": "stdout",
          "text": [
            "      date       dow                                                                                                                                                                                                                                                                               text\n",
            "2021-08-01    Sunday                                                                                                                                                                                                                        Application for degree for January and February 2022 begins\n",
            "2021-08-18 Wednesday                                                                                                                                                                                                                                                 Last day to apply for Study Abroad\n",
            "2021-08-24   Tuesday                                                                                                                                                              Last day of Registration;Last day to file ePermit for the Fall 2021;Last day to drop classes for 100% tuition refund;\n",
            "2021-08-25 Wednesday                                                                                                                                                                                                               Start of Fall Term;Classes begin;Initial Registration Appeals begin;\n",
            "2021-08-25 Wednesday                                                                                                                                                                                                                                          Change of program period; late fees apply\n",
            "2021-08-26  Thursday                                                                                                                                                                                                                                          Change of program period; late fees apply\n",
            "2021-08-27    Friday                                                                                                                                                                                                                                          Change of program period; late fees apply\n",
            "2021-08-28  Saturday                                                                                                                                                                                                                                          Change of program period; late fees apply\n",
            "2021-08-29    Sunday                                                                                                                                                                                                                                          Change of program period; late fees apply\n",
            "2021-08-30    Monday                                                                                                                                                                                                                                          Change of program period; late fees apply\n",
            "2021-08-31   Tuesday                                                                                                                                                                                                                                          Change of program period; late fees apply\n",
            "2021-08-26  Thursday                                                                                                                                                                                                                                                     Last day for Independent Study\n",
            "2021-08-28  Saturday                                                                                                                                                                                                                                                      First day of Saturday Classes\n",
            "2021-08-31   Tuesday                               Last day to add a class to an existing enrollment;Last day for 75% tuition refund;Financial Aid Certification Enrollment Status date;Last day to apply for Audit option;Last day to drop without the grade of 'WD';Initial Registration Appeals end;\n",
            "2021-09-01 Wednesday                                                                                                                Verification of Enrollment rosters available to faculty;Course Withdrawal drop period begins (A grade of 'WD' is assigned to students who officially drop a class);\n",
            "2021-09-03    Friday                                                                                                                                                                                                                                                               No classes scheduled\n",
            "2021-09-04  Saturday                                                                                                                                                                                                                                                               No classes scheduled\n",
            "2021-09-05    Sunday                                                                                                                                                                                                                                                               No classes scheduled\n",
            "2021-09-06    Monday                                                                                                                                                                                                                                                               No classes scheduled\n",
            "2021-09-07   Tuesday                                                                                                                                                                                                                                                               No classes scheduled\n",
            "2021-09-08 Wednesday                                                                                                                                                                                                                                                               No classes scheduled\n",
            "2021-09-06    Monday                                                                                                                                                                                                                                    College Closed;Last day for 50% tuition refund;\n",
            "2021-09-09  Thursday                                                                                                                                                                                                                                                               Freshman Convocation\n",
            "2021-09-14   Tuesday Last day for 25% tuition refund;Census date;Last day to change or declare a major/minor to be effective in Fall 2021;Last day to drop without the grade of 'W';Course Withdrawal drop period ends (Last day for 'WD' grades);Verification of Enrollment Rosters Dues from Faculty;\n",
            "2021-09-15 Wednesday                                                                            Assignment of 'WN' grades for non-attendance;Course Withdrawal period begins (A grade of 'W' is assigned to students who officially drop a class) - No Refund;100% Tuition obligation for course drops;\n",
            "2021-09-15 Wednesday                                                                                                                                                                                                                                                               No classes scheduled\n",
            "2021-09-16  Thursday                                                                                                                                                                                                                                                               No classes scheduled\n",
            "2021-09-23  Thursday                                                                                                                                                                                                                        Last day to submit proof of immunization for NYS residents;\n",
            "2021-09-24    Friday                                                                                                                                                                                                                          Assignment of 'WA' grades for immunization non-compliance\n",
            "2021-10-01    Friday                                                                                                                                                                                                                             Advising month begins for Spring and Winter enrollment\n",
            "2021-10-08    Friday                                                                                                                                           Deadline for filing application for degree for January and February 2022;Last day to submit proof of immunization for non-NYS residents;\n",
            "2021-10-11    Monday                                                                                                                                                                                                                                                                     College Closed\n",
            "2021-11-01    Monday                                                                                                        'INC' grades for Spring 2021 and Winter 2021 for Undergraduate students convert to 'FIN';'INC' grades for Summer 2020 and Fall 2020 for Graduate students convert to 'FIN';\n",
            "2021-11-02   Tuesday                                                                                                                              Registration appointments for Winter and Spring 2022 begin for continuing students.  Check your CUNYFirst account for your appointment date and time.\n",
            "2021-11-04  Thursday                                                                                                                                                                                                                                                   Last day to file for P/NC option\n",
            "2021-11-06  Saturday                                                                                                                                                                                                                                                               60% Date of the term\n",
            "2021-11-23   Tuesday                                                                                                                                                                                                           'INC' grades for Summer 2021 for Undergraduate students convert to 'FIN'\n",
            "2021-11-25  Thursday                                                                                                                                                                                                                                                                     College Closed\n",
            "2021-11-26    Friday                                                                                                                                                                                                                                                                     College Closed\n",
            "2021-11-27  Saturday                                                                                                                                                                                                                                                                     College Closed\n",
            "2021-11-28    Sunday                                                                                                                                                                                                                                                                     College Closed\n",
            "2021-12-11  Saturday                                                                                                                                                                                                                                                       Last day of Saturday Classes\n",
            "2021-12-13    Monday                                                                                                                                                                       Course Withdrawal period ends (Last day to withdraw from a class with the grade of 'W');Last day of Classes;\n",
            "2021-12-14   Tuesday                                                                                                                                                                                                                                                                        Reading Day\n",
            "2021-12-15 Wednesday                                                                                                                                                                                                                                                                 Final Examinations\n",
            "2021-12-16  Thursday                                                                                                                                                                                                                                                                 Final Examinations\n",
            "2021-12-17    Friday                                                                                                                                                                                                                                                                 Final Examinations\n",
            "2021-12-18  Saturday                                                                                                                                                                                                                                                                 Final Examinations\n",
            "2021-12-19    Sunday                                                                                                                                                                                                                                                                 Final Examinations\n",
            "2021-12-20    Monday                                                                                                                                                                                                                                                                 Final Examinations\n",
            "2021-12-21   Tuesday                                                                                                                                                                                                                                                                 Final Examinations\n",
            "2021-12-21   Tuesday                                                                                                                                                                                                                                                                        End of Term\n",
            "2021-12-24    Friday                                                                                                                                                                                                                                                                     College Closed\n",
            "2021-12-25  Saturday                                                                                                                                                                                                                                                                     College Closed\n",
            "2021-12-27    Monday                                                                                                                                                                                                                                                                     College Closed\n",
            "2021-12-28   Tuesday                                                                                                                                                                                                                                      Final Grade Submission Deadline for Fall 2021\n",
            "2021-12-31    Friday                                                                                                                                                                                                                                                                     College Closed\n",
            "2022-01-01  Saturday                                                                                                                                                                                                                                    College Closed;Fall 2021 Degree Conferral Date;\n"
          ]
        }
      ]
    }
  ]
}